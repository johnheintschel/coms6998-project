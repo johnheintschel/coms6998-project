{
 "cells": [
  {
   "cell_type": "code",
   "execution_count": 1,
   "metadata": {
    "collapsed": true
   },
   "outputs": [],
   "source": [
    "import datetime\n",
    "import pandas as pd\n",
    "import time\n",
    "import requests\n",
    "import os\n",
    "import numpy as np"
   ]
  },
  {
   "cell_type": "code",
   "execution_count": 2,
   "metadata": {
    "collapsed": true
   },
   "outputs": [],
   "source": [
    "DATA_DIR = \"data/djia_20000101_20171101/\"\n"
   ]
  },
  {
   "cell_type": "code",
   "execution_count": 4,
   "metadata": {
    "collapsed": true
   },
   "outputs": [],
   "source": [
    "class Hedge(object):\n",
    "    \n",
    "    def __init__(self, directory, wealth):\n",
    "        self.directory = directory\n",
    "        \n",
    "        self.assets = [f.split(\".\")[0].upper() for f in os.listdir(directory)]\n",
    "        self.data_iters = [pd.read_csv(directory+s.lower()+\".csv\", iterator=True, chunksize=1) for s in self.assets]\n",
    "        \n",
    "        self.cursors = [d.get_chunk(1) for d in self.data_iters]\n",
    "        self.prices = np.asarray([float(c[\"adj_close\"]) for c in self.cursors])\n",
    "        \n",
    "        self.benchmark_weights = np.ones(len(self.assets))/len(self.assets)\n",
    "        self.weights = np.ones(len(self.assets))/len(self.assets)\n",
    "        \n",
    "        self.position = [weight * wealth for weight in self.weights]\n",
    "        self.benchmark_position = [weight * wealth for weight in self.benchmark_weights]\n",
    "        \n",
    "        self.benchmark_wealth = np.sum(self.benchmark_position)\n",
    "        self.wealth = np.sum(self.position)\n",
    "        \n",
    "        self.returns = None\n",
    "        self.eta = -0.0001\n",
    "        \n",
    "    def move_cursor_and_update(self):\n",
    "        self.cursors = [d.get_chunk(1) for d in self.data_iters]\n",
    "        new_prices = np.asarray([float(c[\"adj_close\"]) for c in self.cursors])\n",
    "        self.returns = (new_prices - self.prices)/self.prices\n",
    "        self.prices = new_prices\n",
    "        return\n",
    "        \n",
    "    def calc_weights(self):       \n",
    "        multipliers = np.exp(self.eta * self.returns/np.sum(self.weights * self.returns))\n",
    "        self.weights = (self.weights * multipliers)/ np.sum(self.weights * multipliers) \n",
    "        return\n",
    "    \n",
    "    def adjust_position(self):\n",
    "        self.position = np.asarray([weight * self.wealth for weight in self.weights]) * (1 + self.returns)\n",
    "        self.wealth = np.sum(self.position)\n",
    "        self.benchmark_position = np.asarray([weight * self.benchmark_wealth for weight in self.benchmark_weights]) * (1 + self.returns)\n",
    "        self.benchmark_wealth = np.sum(self.benchmark_position)\n",
    "        return\n",
    "        \n",
    "    def run(self):\n",
    "        while True:\n",
    "            try:\n",
    "                self.move_cursor_and_update()\n",
    "                self.calc_weights()\n",
    "                self.adjust_position()\n",
    "            except StopIteration:\n",
    "                break"
   ]
  },
  {
   "cell_type": "code",
   "execution_count": 5,
   "metadata": {},
   "outputs": [
    {
     "name": "stdout",
     "output_type": "stream",
     "text": [
      "19057.6841678\n",
      "19647.7308454\n"
     ]
    }
   ],
   "source": [
    "h = Hedge(DATA_DIR, 10000)\n",
    "h.run()\n",
    "\n",
    "print h.wealth\n",
    "print h.benchmark_wealth"
   ]
  },
  {
   "cell_type": "code",
   "execution_count": 6,
   "metadata": {},
   "outputs": [
    {
     "data": {
      "text/plain": [
       "['AAPL',\n",
       " 'AXP',\n",
       " 'BA',\n",
       " 'CAT',\n",
       " 'CSCO',\n",
       " 'CVX',\n",
       " 'DD',\n",
       " 'DIS',\n",
       " 'GE',\n",
       " 'GS',\n",
       " 'HD',\n",
       " 'IBM',\n",
       " 'INTC',\n",
       " 'JNJ',\n",
       " 'JPM',\n",
       " 'KO',\n",
       " 'MCD',\n",
       " 'MMM',\n",
       " 'MRK',\n",
       " 'MSFT',\n",
       " 'NKE',\n",
       " 'PFE',\n",
       " 'PG',\n",
       " 'TRV',\n",
       " 'UNH',\n",
       " 'UTX',\n",
       " 'V',\n",
       " 'VZ',\n",
       " 'WMT',\n",
       " 'XOM']"
      ]
     },
     "execution_count": 6,
     "metadata": {},
     "output_type": "execute_result"
    }
   ],
   "source": [
    "h.assets"
   ]
  },
  {
   "cell_type": "code",
   "execution_count": null,
   "metadata": {
    "collapsed": true
   },
   "outputs": [],
   "source": []
  }
 ],
 "metadata": {
  "anaconda-cloud": {},
  "kernelspec": {
   "display_name": "Python [Root]",
   "language": "python",
   "name": "Python [Root]"
  },
  "language_info": {
   "codemirror_mode": {
    "name": "ipython",
    "version": 2
   },
   "file_extension": ".py",
   "mimetype": "text/x-python",
   "name": "python",
   "nbconvert_exporter": "python",
   "pygments_lexer": "ipython2",
   "version": "2.7.12"
  }
 },
 "nbformat": 4,
 "nbformat_minor": 2
}
