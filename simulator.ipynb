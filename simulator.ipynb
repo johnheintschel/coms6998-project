{
 "cells": [
  {
   "cell_type": "code",
   "execution_count": 3,
   "metadata": {
    "collapsed": true
   },
   "outputs": [],
   "source": [
    "import datetime\n",
    "import pandas as pd\n",
    "import time\n",
    "import requests\n",
    "import os\n",
    "import numpy as np"
   ]
  },
  {
   "cell_type": "code",
   "execution_count": 132,
   "metadata": {
    "collapsed": true
   },
   "outputs": [],
   "source": [
    "## This class contains the components necessary for running and evaluating a historical simulation.\n",
    "\n",
    "class SimulationEnv(object):\n",
    "    \n",
    "    def __init__(self, wealth, assets, \n",
    "                 path_to_data, start_date, end_date,\n",
    "                 agent_type, expert_type):\n",
    "\n",
    "        self.init_wealth = wealth\n",
    "        self.wealth = wealth\n",
    "        self.assets = assets\n",
    "        self.agent_type = agent_type\n",
    "        self.expert_type = expert_type\n",
    "        self.path_to_data = path_to_data\n",
    "        \n",
    "        ## TODO: \n",
    "        ## - specify start and end date for simulation\n",
    "        ## - collect statistics on simulation results\n",
    "        \n",
    "        return\n",
    "    \n",
    "    \n",
    "    ## To be called before running a simulation - initialize experts, agents, and initial position, etc.\n",
    "    def pre_simulation(self):\n",
    "        \n",
    "        self.experts = [Dummy(a, self.path_to_data+a.lower()+\".csv\") for a in self.assets]\n",
    "        self.agent = self.agent_type(self.experts)\n",
    "        self.positions = [weight * self.wealth for weight in self.agent.weights]\n",
    "        \n",
    "        ## TODO: \n",
    "        # do various other stuff here like for select for high-volatility stocks or something\n",
    "        # exception handling\n",
    "        # Need to make sure data files are in sync\n",
    "        return\n",
    "        \n",
    "    ## Run simulation\n",
    "    def run(self):\n",
    "        while True:\n",
    "            try:\n",
    "                for expert in self.agent.experts:\n",
    "                    expert.update()\n",
    "                self.agent.update()\n",
    "                self.positions = self.positions * (1 + self.agent.rewards)\n",
    "                self.wealth = np.sum(self.positions)\n",
    "                self.positions = [weight * self.wealth for weight in self.agent.weights]\n",
    "            except StopIteration:\n",
    "                break\n",
    "                \n",
    "                \n"
   ]
  },
  {
   "cell_type": "code",
   "execution_count": 133,
   "metadata": {
    "collapsed": true
   },
   "outputs": [],
   "source": [
    "## Base classes for agents and experts to be implemented by us\n",
    "\n",
    "from abc import ABCMeta, abstractmethod\n",
    "\n",
    "class Agent(object):\n",
    "    __metaclass__ =ABCMeta\n",
    "    \n",
    "    @abstractmethod\n",
    "    def __init__(self):\n",
    "        pass\n",
    "    \n",
    "    @abstractmethod\n",
    "    def update(self):\n",
    "        pass\n",
    "    \n",
    "    @abstractmethod\n",
    "    def act(self):\n",
    "        pass\n",
    "    \n",
    "class Expert(object):\n",
    "    __metaclass__=ABCMeta\n",
    "    \n",
    "    @abstractmethod\n",
    "    def __init__(self, reward_data, context_data = None):\n",
    "        pass\n",
    "    \n",
    "    @abstractmethod\n",
    "    def update(self):\n",
    "        pass\n",
    "    "
   ]
  },
  {
   "cell_type": "code",
   "execution_count": 142,
   "metadata": {
    "collapsed": true
   },
   "outputs": [],
   "source": [
    "## Hedge. (http://www.cis.upenn.edu/~mkearns/finread/helmbold98line.pdf)\n",
    "\n",
    "class Hedge(Agent):\n",
    "    \n",
    "    ## Initialize with a set of experts\n",
    "    def __init__(self, experts):\n",
    "        self.eta = -0.005\n",
    "        self.experts = experts\n",
    "        self.weights = np.ones(len(self.experts))/len(self.experts)\n",
    "        self.rewards = None\n",
    "        return\n",
    "    \n",
    "    ## Update the agent's rewards and its weights for each expert\n",
    "    def update(self):\n",
    "        self.rewards = np.asarray([e.reward for e in self.experts])\n",
    "        multipliers = np.exp(self.eta * self.rewards/np.sum(self.weights * self.rewards))\n",
    "        self.weights = (self.weights * multipliers)/ np.sum(self.weights * multipliers) \n",
    "        return\n",
    "    \n",
    "    def act(self):\n",
    "        return self.weights\n",
    "\n",
    "## Dummy expert that always pick the same asset\n",
    "class Dummy(Expert):\n",
    "    \n",
    "    ## Expert has a reward associated with its pick\n",
    "    def __init__(self, name, data):\n",
    "        self.reward = 0.\n",
    "        self.pick = name ## Might not be necessary\n",
    "        self.data = pd.read_csv(data, iterator=True, chunksize=1)\n",
    "        self.last_price = float(self.data.get_chunk(1)[\"adj_close\"])\n",
    "        return\n",
    "    \n",
    "    ## Expert updates its reward \n",
    "    def update(self):\n",
    "        current_price = float(self.data.get_chunk(1)[\"adj_close\"])\n",
    "        self.reward = (current_price - self.last_price)/self.last_price\n",
    "        self.last_price = current_price\n",
    "        return"
   ]
  },
  {
   "cell_type": "code",
   "execution_count": 143,
   "metadata": {
    "collapsed": true
   },
   "outputs": [],
   "source": [
    "## Some other examples of agents to use as benchmarks \n",
    "\n",
    "class NaiveBuyHold(Agent):\n",
    "    \n",
    "    def __init__(self):\n",
    "        return\n",
    "    \n",
    "    def update(self):\n",
    "        return\n",
    "    \n",
    "    def act(self):\n",
    "        return\n",
    "    \n",
    "class WeightedBuyHold(Agent):\n",
    "    \n",
    "    def __init__(self):\n",
    "        return\n",
    "    \n",
    "    def update(self):\n",
    "        return\n",
    "    \n",
    "    def act(self):\n",
    "        return\n",
    "    \n",
    "class ConstantRebalancer(Agent):\n",
    "    \n",
    "    def __init__(self):\n",
    "        return\n",
    "    \n",
    "    def update(self):\n",
    "        return\n",
    "    \n",
    "    def act(self):\n",
    "        return\n"
   ]
  },
  {
   "cell_type": "code",
   "execution_count": 139,
   "metadata": {},
   "outputs": [],
   "source": [
    "stocks = ['AAPL', 'AXP', 'BA', 'CAT', 'CSCO', 'CVX', 'DD', 'DIS', 'GE',\n",
    " 'GS', 'HD', 'IBM', 'INTC', 'JNJ', 'JPM', 'KO', 'MCD', 'MMM', \n",
    "'MRK', 'MSFT', 'NKE', 'PFE', 'PG', 'TRV', 'UNH', 'UTX', 'V', 'VZ', 'WMT', 'XOM']"
   ]
  },
  {
   "cell_type": "code",
   "execution_count": 140,
   "metadata": {},
   "outputs": [],
   "source": [
    "s = SimulationEnv(100000, stocks, \"data/djia_20150101_20171101/\", \"2015-01-01\", \"2017-11-01\", Hedge, Dummy)\n",
    "s.pre_simulation()\n",
    "s.run()"
   ]
  },
  {
   "cell_type": "code",
   "execution_count": null,
   "metadata": {},
   "outputs": [],
   "source": [
    "# DATA_DIR = \"data/djia_20150101_20171101/\"\n",
    "\n",
    "# dummy_experts = [Dummy(s, DATA_DIR+s.lower()+\".csv\") for s in stocks]\n",
    "# h = Hedge(dummy_experts)\n",
    "# while True:\n",
    "#     try:\n",
    "#         for expert in h.experts:\n",
    "#             expert.update()\n",
    "#         h.update()\n",
    "#         h.act()\n",
    "#     except StopIteration:\n",
    "#         break\n",
    "# h.weights"
   ]
  },
  {
   "cell_type": "code",
   "execution_count": null,
   "metadata": {
    "collapsed": true
   },
   "outputs": [],
   "source": []
  }
 ],
 "metadata": {
  "kernelspec": {
   "display_name": "Python [Root]",
   "language": "python",
   "name": "Python [Root]"
  },
  "language_info": {
   "codemirror_mode": {
    "name": "ipython",
    "version": 2
   },
   "file_extension": ".py",
   "mimetype": "text/x-python",
   "name": "python",
   "nbconvert_exporter": "python",
   "pygments_lexer": "ipython2",
   "version": "2.7.12"
  }
 },
 "nbformat": 4,
 "nbformat_minor": 2
}
