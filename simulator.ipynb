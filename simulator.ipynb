{
 "cells": [
  {
   "cell_type": "code",
   "execution_count": 1,
   "metadata": {
    "collapsed": true
   },
   "outputs": [],
   "source": [
    "import datetime\n",
    "import pandas as pd\n",
    "import time\n",
    "import requests\n",
    "import os\n",
    "import numpy as np"
   ]
  },
  {
   "cell_type": "code",
   "execution_count": 2,
   "metadata": {
    "collapsed": true
   },
   "outputs": [],
   "source": [
    "## This class contains the components necessary for running and evaluating a historical simulation.\n",
    "\n",
    "class SimulationEnv(object):\n",
    "    \n",
    "    def __init__(self, wealth, assets, \n",
    "                 data_path, start_date, end_date,\n",
    "                 agent, experts, context_generator):\n",
    "\n",
    "        self.init_wealth = wealth\n",
    "        self.wealth = wealth\n",
    "        self.assets = assets\n",
    "        self.agent = agent\n",
    "        self.experts = experts\n",
    "        self.context_generator = context_generator\n",
    "        self.data = [pd.read_csv(data_path+s.lower()+\".csv\", iterator=True, chunksize=1) for s in self.assets]\n",
    "        \n",
    "        return\n",
    "    \n",
    "    def pre_simulation(self):\n",
    "        ## Do various stuff here like for select for high-volatility stocks or something\n",
    "        pass\n",
    "    \n",
    "    def run(self):\n",
    "        while True:\n",
    "            try:\n",
    "                self.algorithm.update()\n",
    "                for expert in self.experts:\n",
    "                    expert.update()\n",
    "                self.algorithm.act()\n",
    "            except StopIteration:\n",
    "                break\n",
    "                \n",
    "                \n"
   ]
  },
  {
   "cell_type": "code",
   "execution_count": 3,
   "metadata": {
    "collapsed": true
   },
   "outputs": [],
   "source": [
    "from abc import ABCMeta, abstractmethod\n",
    "\n",
    "class Agent(object):\n",
    "    __metaclass__ =ABCMeta\n",
    "    \n",
    "    @abstractmethod\n",
    "    def __init__(self):\n",
    "        pass\n",
    "    \n",
    "    @abstractmethod\n",
    "    def update(self):\n",
    "        pass\n",
    "    \n",
    "    @abstractmethod\n",
    "    def act(self):\n",
    "        pass\n",
    "    \n",
    "class Expert(object):\n",
    "    __metaclass__=ABCMeta\n",
    "    \n",
    "    @abstractmethod\n",
    "    def __init__(self):\n",
    "        pass\n",
    "    \n",
    "    @abstractmethod\n",
    "    def update(self):\n",
    "        pass\n",
    "    "
   ]
  },
  {
   "cell_type": "code",
   "execution_count": 8,
   "metadata": {
    "collapsed": true
   },
   "outputs": [],
   "source": [
    "class Hedge(Agent):\n",
    "    \n",
    "    def __init__(self):\n",
    "        return\n",
    "    \n",
    "    def update(self):\n",
    "        print \"hedge update goes here\"\n",
    "        return\n",
    "    \n",
    "    def act(self):\n",
    "        print \"hedge action goes here\"\n",
    "        return\n",
    "\n",
    "\n",
    "class NaiveBuyHold(Agent):\n",
    "    \n",
    "    def __init__(self):\n",
    "        return\n",
    "    \n",
    "    def update(self):\n",
    "        return\n",
    "    \n",
    "    def act(self):\n",
    "        return\n",
    "    \n",
    "class WeightedBuyHold(Agent):\n",
    "    \n",
    "    def __init__(self):\n",
    "        return\n",
    "    \n",
    "    def update(self):\n",
    "        return\n",
    "    \n",
    "    def act(self):\n",
    "        return\n",
    "    \n",
    "class ConstantRebalancer(Agent):\n",
    "    \n",
    "    def __init__(self):\n",
    "        return\n",
    "    \n",
    "    def update(self):\n",
    "        return\n",
    "    \n",
    "    def act(self):\n",
    "        return\n",
    "    \n",
    "class Dummy(Expert):\n",
    "    \n",
    "    def __init__(self, stock):\n",
    "        self.pick = stock\n",
    "        return\n",
    "    \n",
    "    def update(self):\n",
    "        pass"
   ]
  },
  {
   "cell_type": "code",
   "execution_count": 7,
   "metadata": {},
   "outputs": [
    {
     "name": "stdout",
     "output_type": "stream",
     "text": [
      "hedge action goes here\n"
     ]
    }
   ],
   "source": [
    "h = Hedge()\n",
    "h.act()"
   ]
  }
 ],
 "metadata": {
  "kernelspec": {
   "display_name": "Python [Root]",
   "language": "python",
   "name": "Python [Root]"
  },
  "language_info": {
   "codemirror_mode": {
    "name": "ipython",
    "version": 2
   },
   "file_extension": ".py",
   "mimetype": "text/x-python",
   "name": "python",
   "nbconvert_exporter": "python",
   "pygments_lexer": "ipython2",
   "version": "2.7.12"
  }
 },
 "nbformat": 4,
 "nbformat_minor": 2
}
