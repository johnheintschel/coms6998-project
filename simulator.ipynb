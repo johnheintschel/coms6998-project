{
 "cells": [
  {
   "cell_type": "code",
   "execution_count": 1,
   "metadata": {
    "collapsed": true
   },
   "outputs": [],
   "source": [
    "import datetime\n",
    "import pandas as pd\n",
    "import time\n",
    "import requests\n",
    "import os\n",
    "import numpy as np\n",
    "import xlsxwriter\n",
    "from abc import ABCMeta, abstractmethod\n",
    "import Queue\n",
    "from collections import deque\n",
    "import getpass\n",
    "import pandas.io.formats.excel"
   ]
  },
  {
   "cell_type": "code",
   "execution_count": 2,
   "metadata": {
    "collapsed": true
   },
   "outputs": [],
   "source": [
    "# TODOs:\n",
    "\n",
    "# PNL reporting/collecting relevant statistics for visualizations from our simulations\n",
    "\n",
    "# Longer time horizons. Only weight according to n most recent time steps\n",
    "\n",
    "# Benchmarks: \n",
    "## - Buy and hold market index (Dow Jones)\n",
    "## - Constantly Rebalanced Portfolio (maintain equal weights of each asset at all times)\n",
    "\n",
    "# Non-fractional shares\n",
    "\n",
    "# Contexts\n",
    "\n",
    "# Other trading strategies\n",
    "## Fundamentals-based strategies (need to get more data for this)\n",
    "\n"
   ]
  },
  {
   "cell_type": "markdown",
   "metadata": {},
   "source": [
    "### Simulation runner"
   ]
  },
  {
   "cell_type": "code",
   "execution_count": 12,
   "metadata": {
    "collapsed": true
   },
   "outputs": [],
   "source": [
    "\n",
    "class SimulationEnv(object):\n",
    "    \n",
    "    loggables = ['positions']\n",
    "    \n",
    "    def __init__(self, wealth, assets, \n",
    "                 path_to_data, start_date, end_date,\n",
    "                 agent_type, expert_type, reinvest):\n",
    "\n",
    "        self.init_wealth = wealth\n",
    "        self.wealth = wealth\n",
    "        self.assets = assets\n",
    "        self.agent_type = agent_type\n",
    "        self.expert_type = expert_type\n",
    "        self.path_to_data = path_to_data\n",
    "        self.reinvest = reinvest\n",
    "        ## TODO: \n",
    "        ## - specify start and end date for simulation\n",
    "        ## - collect statistics on simulation results\n",
    "        \n",
    "        return\n",
    "    \n",
    "    \n",
    "    ## To be called before running a simulation - initialize experts, agents, and initial position, etc.\n",
    "\n",
    "    def setup_params(self, agent_args={}, expert_args={}):\n",
    "    \n",
    "        self.experts = [self.expert_type(a, self.path_to_data, **expert_args) for a in self.assets]\n",
    "        self.agent = self.agent_type(self.experts, **agent_args)\n",
    "        self.positions = np.array([weight * self.wealth for weight in self.agent.weights])\n",
    "        \n",
    "        ## TODO: \n",
    "        # do various other stuff here like for select for high-volatility stocks or something\n",
    "        # exception handling\n",
    "        # Need to make sure data files are in sync\n",
    "        \n",
    "        return\n",
    "        \n",
    "    ## Run simulation\n",
    "    def run(self, log=False, logpath=os.getcwd()):\n",
    "        \n",
    "        ## Start period counter and log\n",
    "        self.period = 1\n",
    "        self.finallog = []\n",
    "        self.log = log\n",
    "        self.logpath = logpath\n",
    "        \n",
    "        ## Warmup period: \n",
    "        ## i.e. for strategies involving moving average indicators, wait until we have enough data to calculate MA\n",
    "        for expert in self.agent.experts:\n",
    "            expert.warmup()\n",
    "        \n",
    "        ## Simulation: Go until data iterators reach the end\n",
    "        while True:\n",
    "            try:\n",
    "\n",
    "                ## Log this period\n",
    "                if log:\n",
    "                    self.logperiod()\n",
    "                    \n",
    "                ## Update experts with last period's rewards\n",
    "                for i, expert in enumerate(self.agent.experts):\n",
    "                    expert.update()\n",
    "                    if self.reinvest:# below is to redistribute unallocated money\n",
    "                        if expert.pick == False:\n",
    "                            extra_money = self.positions[i]\n",
    "                            self.positions[i] = 0\n",
    "                            distribute = np.greater(self.positions, 0)\n",
    "                            if not np.any(distribute): # this is to avoid divide by zero if nothing is invested\n",
    "                                #print(\"all experts say not to buy\")\n",
    "                                self.positions = np.array([weight * self.wealth for weight in self.agent.weights])\n",
    "                            else:\n",
    "                                distribute_extra_money = distribute * (extra_money/ np.sum(distribute))\n",
    "                                self.positions = np.add(self.positions, distribute_extra_money)\n",
    "                            assert(abs(np.sum(self.positions)-self.wealth) <= 1)# make sure all money is accounted for\n",
    "                      \n",
    "                ## Update agent accordingly (i.e. for Hedge, update weights according to each expert's reward in the last period)\n",
    "                self.agent.update()\n",
    "                \n",
    "\n",
    "                \n",
    "                ## Update position with returns from last period\n",
    "                self.positions = self.positions * (1 + self.agent.returns)\n",
    "                self.wealth = np.sum(self.positions)\n",
    "                \n",
    "                ## Rebalance according to new, updated weights\n",
    "                ## TODO: only allow non-fractional shares to be purchased (?)\n",
    "                if np.sum(self.agent.weights) == 1:\n",
    "                    self.positions = np.array([weight * self.wealth for weight in self.agent.weights])\n",
    "                    \n",
    "                ## Advance period\n",
    "                self.period += 1\n",
    "                \n",
    "            except StopIteration:\n",
    "                break\n",
    "        \n",
    "        ## Write the log file\n",
    "        if log:\n",
    "            self.savelog()\n",
    "\n",
    "    def logperiod(self):\n",
    "        row = [self.period] + [self.wealth]\n",
    "        nrow = []\n",
    "        for loggable in (self.loggables):\n",
    "            if getattr(self,loggable) is None:\n",
    "                nrow += [None] * len(self.experts)\n",
    "            else:\n",
    "                nrow += getattr(self,loggable).tolist()\n",
    "        arow = []\n",
    "        for loggable in (self.agent_type.loggables):\n",
    "            if getattr(self.agent,loggable) is None:\n",
    "                arow += [None] * len(self.experts)\n",
    "            else:\n",
    "                arow += getattr(self.agent,loggable).tolist()\n",
    "        erow = []\n",
    "        for loggable in (self.expert_type.loggables):\n",
    "            if [getattr(e,loggable) for e in self.experts] is None:\n",
    "                erow += [None] * len(self.experts)\n",
    "            else:\n",
    "                erow += [getattr(e,loggable) for e in self.experts]\n",
    "        row += nrow + arow + erow\n",
    "        self.finallog.append(row)\n",
    "    \n",
    "    def savelog(self):\n",
    "        runtime = datetime.datetime.now()\n",
    "        runuser = getpass.getuser()\n",
    "        logname = runuser + \"_\" + runtime.strftime('%Y-%m-%d_%H-%M-%S')\n",
    "        if not os.path.exists(os.path.join(self.logpath, logname)):\n",
    "            os.makedirs(os.path.join(self.logpath, logname))\n",
    "        col = ['period', 'wealth'] + \\\n",
    "            [x+'.'+y for x in self.loggables for y in self.assets] + \\\n",
    "            [x+'.'+y for x in self.agent_type.loggables for y in self.assets] + \\\n",
    "            [x+'.'+y for x in self.expert_type.loggables for y in self.assets]\n",
    "        df = pd.DataFrame(self.finallog, columns=col)\n",
    "        df.set_index('period', inplace=True)\n",
    "        \n",
    "        \n",
    "        writer = pd.ExcelWriter(os.path.join(self.logpath, logname, logname+'.xlsx'), engine='xlsxwriter')\n",
    "        pd.io.formats.excel.header_style = None\n",
    "        df.to_excel(writer,'run_log')\n",
    "        \n",
    "        workbook  = writer.book\n",
    "        worksheet = writer.sheets['run_log']\n",
    "        \n",
    "        header_format = workbook.add_format({'bold': True,'text_wrap': True})\n",
    "        worksheet.set_row(0, None, header_format)\n",
    "        writer.save()\n",
    "\n"
   ]
  },
  {
   "cell_type": "markdown",
   "metadata": {},
   "source": [
    "### Base classes\n",
    "\n",
    "Base classes for agents and experts to be implemented by us"
   ]
  },
  {
   "cell_type": "code",
   "execution_count": 4,
   "metadata": {
    "collapsed": true
   },
   "outputs": [],
   "source": [
    "\n",
    "class Agent(object):\n",
    "    __metaclass__ =ABCMeta\n",
    "    \n",
    "    @abstractmethod\n",
    "    def __init__(self):\n",
    "        pass\n",
    "    \n",
    "    @abstractmethod\n",
    "    def update(self):\n",
    "        pass\n",
    "    \n",
    "    @abstractmethod\n",
    "    def act(self):\n",
    "        pass\n",
    "    \n",
    "class Expert(object):\n",
    "    __metaclass__=ABCMeta\n",
    "    \n",
    "    @abstractmethod\n",
    "    def __init__(self, reward_data):\n",
    "        pass\n",
    "    \n",
    "    @abstractmethod\n",
    "    def update(self):\n",
    "        pass\n",
    "    \n",
    "class Context(object):\n",
    "    __metaclass__=ABCMeta\n",
    "    \n",
    "    @abstractmethod\n",
    "    def __init__(self, context_data):\n",
    "        pass\n",
    "    \n",
    "    @abstractmethod\n",
    "    def observe(self):\n",
    "        pass"
   ]
  },
  {
   "cell_type": "markdown",
   "metadata": {},
   "source": [
    "### Agents\n",
    "\n",
    "Implementations of different online portfolio selection algorithms\n",
    "* Exponential Gradient\n",
    "* Exponential Gradient (recent history only)"
   ]
  },
  {
   "cell_type": "code",
   "execution_count": 5,
   "metadata": {
    "collapsed": true
   },
   "outputs": [],
   "source": [
    "## EG. (http://www.cis.upenn.edu/~mkearns/finread/helmbold98line.pdf)\n",
    "class EG(Agent):\n",
    "    \n",
    "    loggables = ['returns','rewards','weights']\n",
    "    \n",
    "    ## Initialize with a set of experts\n",
    "    def __init__(self, experts, eta):\n",
    "        self.eta = eta\n",
    "        self.experts = experts\n",
    "        self.weights = np.ones(len(self.experts))/len(self.experts)\n",
    "        self.rewards = None\n",
    "        self.returns = None\n",
    "        return\n",
    "    \n",
    "    ## Update the agent's rewards and its weights for each expert\n",
    "    def update(self):\n",
    "        self.rewards = np.asarray([e.reward for e in self.experts])\n",
    "        self.returns = np.asarray([e.returns for e in self.experts])\n",
    "        multipliers = np.exp(self.eta * self.rewards/np.sum(self.weights * self.rewards))\n",
    "        self.weights = (self.weights * multipliers)/ np.sum(self.weights * multipliers)\n",
    "        self.weights = np.nan_to_num(self.weights)\n",
    "\n",
    "        return\n",
    "    \n",
    "    def act(self):\n",
    "        return self.weights\n",
    "\n",
    "\n",
    "class EGRecent(Agent):\n",
    "    \n",
    "    loggables = ['returns','rewards','weights']\n",
    "    \n",
    "    ## Initialize with a set of experts\n",
    "    def __init__(self, experts, eta, n):\n",
    "        self.eta = eta\n",
    "        self.experts = experts\n",
    "        #self.weights = Queue(maxsize=n)\n",
    "        self.weights = np.ones(len(self.experts))/len(self.experts)\n",
    "        self.rewards = deque(maxlen=n)\n",
    "        self.returns = None\n",
    "        self.t = 0\n",
    "        self.n = n\n",
    "        #self.rewards = None\n",
    "        #self.returns = None\n",
    "        return\n",
    "    \n",
    "    ## Update the agent's rewards and its weights for each expert\n",
    "    def update(self):\n",
    "           \n",
    "        self.rewards.append(np.asarray([e.reward for e in self.experts]))\n",
    "        self.returns = np.asarray([e.returns for e in self.experts])\n",
    "        \n",
    "        self.weights = np.ones(len(self.experts))/len(self.experts)\n",
    "        #print self.t\n",
    "        #print len(self.rewards)\n",
    "        for rewards in self.rewards:\n",
    "            rewards = np.asarray(rewards)\n",
    "            multipliers = np.exp(self.eta * rewards/np.sum(self.weights * rewards))\n",
    "            self.weights = (self.weights * multipliers)/ np.sum(self.weights * multipliers)\n",
    "            self.weights = np.nan_to_num(self.weights)\n",
    "        self.t += 1\n",
    "        #print self.t\n",
    "        \n",
    "        return\n",
    "    \n",
    "    def act(self):\n",
    "        return self.weights\n",
    "    \n",
    "      \n",
    "        "
   ]
  },
  {
   "cell_type": "markdown",
   "metadata": {},
   "source": [
    "More agents to serve as naive/benchmark portfolio allocation algorithms:\n",
    "* Equal-weighted buy and hold\n",
    "* Market-weighted buy and hold\n",
    "* Constantly rebalanced portfolio\n"
   ]
  },
  {
   "cell_type": "code",
   "execution_count": 6,
   "metadata": {
    "collapsed": true
   },
   "outputs": [],
   "source": [
    "## Some other examples of agents to use as benchmarks \n",
    "\n",
    "class NaiveBuyHold(Agent):\n",
    "    \n",
    "    loggables = ['rewards','weights']\n",
    "    \n",
    "    def __init__(self, experts):\n",
    "        self.experts = experts\n",
    "        self.weights = np.ones(len(self.experts))/len(self.experts)\n",
    "        self.rewards = None\n",
    "        return\n",
    "    \n",
    "    def update(self):\n",
    "        self.rewards = np.asarray([e.reward for e in self.experts])\n",
    "        self.returns = self.rewards\n",
    "        return\n",
    "    \n",
    "    def act(self):\n",
    "        return self.weights\n",
    "    \n",
    "## TODO\n",
    "class WeightedBuyHold(Agent):\n",
    "    \n",
    "    def __init__(self):\n",
    "        return\n",
    "    \n",
    "    def update(self):\n",
    "        return\n",
    "    \n",
    "    def act(self):\n",
    "        return\n",
    "    \n",
    "\n",
    "## TODO\n",
    "class ConstantRebalancer(Agent):\n",
    "    \n",
    "    def __init__(self):\n",
    "        return\n",
    "    \n",
    "    def update(self):\n",
    "        return\n",
    "    \n",
    "    def act(self):\n",
    "        return\n"
   ]
  },
  {
   "cell_type": "markdown",
   "metadata": {},
   "source": [
    "### Experts\n",
    "\n",
    "* Dummy\n",
    "* Mean Reversion\n",
    "* Momentum"
   ]
  },
  {
   "cell_type": "code",
   "execution_count": 7,
   "metadata": {
    "collapsed": true
   },
   "outputs": [],
   "source": [
    "\n",
    "## Dummy expert that always pick the same asset\n",
    "class Dummy(Expert):\n",
    "    \n",
    "    loggables = ['reward']\n",
    "    \n",
    "    ## Expert has a reward associated with its pick\n",
    "    def __init__(self, name, path_to_data):\n",
    "        self.reward = 0.\n",
    "        self.pick = True ## Might not be necessary\n",
    "        self.data = pd.read_csv(path_to_data + name + \".csv\", iterator=True, chunksize=1)\n",
    "        self.last_price = float(self.data.get_chunk(1)[\"adj_close\"])\n",
    "        return\n",
    "    \n",
    "    ## Expert updates its reward \n",
    "    def update(self):\n",
    "        current_price = float(self.data.get_chunk(1)[\"adj_close\"])\n",
    "        self.reward = (current_price - self.last_price)/self.last_price\n",
    "        self.returns = self.reward\n",
    "        self.last_price = current_price\n",
    "        return\n",
    "    \n",
    "    def warmup(self):\n",
    "        pass\n",
    "    \n",
    "\n",
    "class MeanReversion(Expert):\n",
    "    \n",
    "    loggables = ['avg','std']\n",
    "    \n",
    "    def __init__(self, name, path_to_data, window_size, threshold):\n",
    "        self.reward = 0.\n",
    "        self.pick = False\n",
    "        self.data = pd.read_csv(path_to_data + name + \".csv\", iterator=True, chunksize=1)\n",
    "        self.last_price = float(self.data.get_chunk(1)[\"adj_close\"])\n",
    "        self.window_size = window_size\n",
    "        self.avg = 0.0\n",
    "        self.std = 0.0\n",
    "        self.threshold = threshold\n",
    "        self.last_n_prices = Queue(maxsize=10)\n",
    "        self.returns = 0.\n",
    "        return\n",
    "    \n",
    "    def warmup(self):\n",
    "        n = 1\n",
    "        while n <= self.window_size:\n",
    "            self.last_n_prices.put(self.last_price)\n",
    "            self.last_price = float(self.data.get_chunk(1)[\"adj_close\"])\n",
    "            n += 1\n",
    "        return\n",
    "        \n",
    "    def update(self):\n",
    "        _ = self.last_n_prices.get()\n",
    "            \n",
    "        self.last_n_prices.put(self.last_price)\n",
    "        self.avg = np.mean(list(self.last_n_prices.queue))\n",
    "        self.std = np.std(list(self.last_n_prices.queue))\n",
    "        \n",
    "        current_price = float(self.data.get_chunk(1)[\"adj_close\"])\n",
    "\n",
    "        ## If self.pick is True, we bought the stock and our reward is whatever the return was in the last period\n",
    "        if self.pick:\n",
    "            self.reward = (current_price - self.last_price)/self.last_price\n",
    "            self.returns = self.reward\n",
    "        else:\n",
    "            self.reward = -(current_price - self.last_price)/self.last_price\n",
    "            self.returns = 0\n",
    "        self.last_price = current_price\n",
    "\n",
    "        if self.last_price <= self.avg - self.threshold * self.std:\n",
    "            self.pick = True\n",
    "        else:\n",
    "            self.pick = False\n",
    "\n",
    "        return\n",
    "    \n",
    "    \n",
    "class Momentum(Expert):\n",
    "    \n",
    "    loggables = ['avg','std']\n",
    "    \n",
    "    def __init__(self, name, path_to_data, window_size, threshold):\n",
    "        self.reward = 0.\n",
    "        self.pick = False\n",
    "        self.data = pd.read_csv(path_to_data + name + \".csv\", iterator=True, chunksize=1)\n",
    "        self.last_price = float(self.data.get_chunk(1)[\"adj_close\"])\n",
    "        self.window_size = window_size\n",
    "        self.avg = 0.0\n",
    "        self.std = 0.0\n",
    "        self.threshold = threshold\n",
    "        self.last_n_prices = Queue(maxsize=10)\n",
    "        self.returns = 0.\n",
    "        return\n",
    "    \n",
    "    def warmup(self):\n",
    "        n = 1\n",
    "        while n <= self.window_size:\n",
    "            self.last_n_prices.put(self.last_price)\n",
    "            self.last_price = float(self.data.get_chunk(1)[\"adj_close\"])\n",
    "            n += 1\n",
    "        return\n",
    "        \n",
    "    def update(self):\n",
    "        _ = self.last_n_prices.get()\n",
    "            \n",
    "        self.last_n_prices.put(self.last_price)\n",
    "        self.avg = np.mean(list(self.last_n_prices.queue))\n",
    "        self.std = np.std(list(self.last_n_prices.queue))\n",
    "        \n",
    "        current_price = float(self.data.get_chunk(1)[\"adj_close\"])\n",
    "\n",
    "        ## If self.pick is True, we bought the stock and our reward is whatever the return was in the last period\n",
    "        if self.pick:\n",
    "            self.reward = (current_price - self.last_price)/self.last_price\n",
    "            self.returns = self.reward\n",
    "        else:\n",
    "            self.reward = -(current_price - self.last_price)/self.last_price\n",
    "            self.returns = 0\n",
    "        self.last_price = current_price\n",
    "\n",
    "        if self.last_price >= self.avg - self.threshold * self.std:\n",
    "            self.pick = True\n",
    "        else:\n",
    "            self.pick = False\n",
    "\n",
    "        return\n",
    "  "
   ]
  },
  {
   "cell_type": "markdown",
   "metadata": {},
   "source": [
    "### Contexts"
   ]
  },
  {
   "cell_type": "code",
   "execution_count": 8,
   "metadata": {
    "collapsed": true
   },
   "outputs": [],
   "source": [
    "  \n",
    "class VolContext(Context):\n",
    "    \n",
    "    def __init__(self, data_file, threshold):\n",
    "        self.data = pd.read_csv(data_file, iterator=True, chunksize=1)\n",
    "        self.threshold = threshold\n",
    "        self.contexts = [\"HighVol\", \"LowVol\"]\n",
    "        return\n",
    "    \n",
    "    # Returns a string giving the name of the context\n",
    "    def observe(self):\n",
    "        if float(self.data.get_chunk(1)[\"adj_close\"]) > self.threshold:\n",
    "            return self.contexts[0]\n",
    "        else:\n",
    "            return self.contexts[1]"
   ]
  },
  {
   "cell_type": "code",
   "execution_count": 9,
   "metadata": {
    "collapsed": true
   },
   "outputs": [],
   "source": [
    "stocks = ['AAPL', 'AXP', 'BA', 'CAT', 'CSCO', 'CVX', 'DD', 'DIS', 'GE',\n",
    " 'GS', 'HD', 'IBM', 'INTC', 'JNJ', 'JPM', 'KO', 'MCD', 'MMM', \n",
    "'MRK', 'MSFT', 'NKE', 'PFE', 'PG', 'TRV', 'UNH', 'UTX', 'V', 'VZ', 'WMT', 'XOM']"
   ]
  },
  {
   "cell_type": "code",
   "execution_count": 10,
   "metadata": {
    "collapsed": true
   },
   "outputs": [],
   "source": [
    "initial_wealth = 100000"
   ]
  },
  {
   "cell_type": "code",
   "execution_count": 13,
   "metadata": {},
   "outputs": [
    {
     "name": "stdout",
     "output_type": "stream",
     "text": [
      "Initial wealth: $100000\n",
      "Final wealth: $129778.013883\n",
      "Annualized return: 0.0934824414257\n",
      "Time: 19s\n"
     ]
    }
   ],
   "source": [
    "## Run a simulation with Hedge, each expert is a proxy for buying a given stock\n",
    "start = time.time()\n",
    "\n",
    "s = SimulationEnv(initial_wealth, stocks, \"data/djia_20150101_20171101/\", \"2015-01-01\", \"2017-11-01\", EG, Dummy, True)\n",
    "s.setup_params(agent_args = {\"eta\": -0.01})\n",
    "s.run(log=True, logpath=\"logs\")\n",
    "\n",
    "years = 2. + 11./12\n",
    "ar = ((s.wealth)/initial_wealth)**(1/years) - 1\n",
    "end = time.time()\n",
    "\n",
    "print \"Initial wealth: ${}\".format(initial_wealth)\n",
    "print \"Final wealth: ${}\".format(s.wealth)\n",
    "print \"Annualized return: {}\".format(ar)\n",
    "print \"Time: {}s\".format(int(end-start))"
   ]
  },
  {
   "cell_type": "code",
   "execution_count": 67,
   "metadata": {},
   "outputs": [
    {
     "name": "stderr",
     "output_type": "stream",
     "text": [
      "/Users/kwu/anaconda2/lib/python2.7/site-packages/ipykernel/__main__.py:20: RuntimeWarning: overflow encountered in exp\n",
      "/Users/kwu/anaconda2/lib/python2.7/site-packages/ipykernel/__main__.py:21: RuntimeWarning: invalid value encountered in divide\n",
      "/Users/kwu/anaconda2/lib/python2.7/site-packages/ipykernel/__main__.py:20: RuntimeWarning: divide by zero encountered in divide\n",
      "/Users/kwu/anaconda2/lib/python2.7/site-packages/ipykernel/__main__.py:20: RuntimeWarning: invalid value encountered in divide\n",
      "/Users/kwu/anaconda2/lib/python2.7/site-packages/ipykernel/__main__.py:21: RuntimeWarning: invalid value encountered in multiply\n"
     ]
    },
    {
     "name": "stdout",
     "output_type": "stream",
     "text": [
      "Initial wealth: $100000\n",
      "Final wealth: $512772.31064\n",
      "Annualized return: 0.095528541711\n",
      "Time: 83s\n"
     ]
    }
   ],
   "source": [
    "## Run a simulation with Hedge, each expert is a proxy for buying a given stock\n",
    "start = time.time()\n",
    "\n",
    "s = SimulationEnv(initial_wealth, stocks, \"data/djia_20000101_20171101/\", \"2000-01-01\", \"2017-11-01\", EG, Dummy)\n",
    "s.setup_params(agent_args = {\"eta\": -0.01})\n",
    "s.run()\n",
    "\n",
    "years = 17. + 11./12\n",
    "ar = ((s.wealth)/initial_wealth)**(1/years) - 1\n",
    "end = time.time()\n",
    "\n",
    "print \"Initial wealth: ${}\".format(initial_wealth)\n",
    "print \"Final wealth: ${}\".format(s.wealth)\n",
    "print \"Annualized return: {}\".format(ar)\n",
    "print \"Time: {}s\".format(int(end-start))"
   ]
  },
  {
   "cell_type": "code",
   "execution_count": 66,
   "metadata": {},
   "outputs": [
    {
     "name": "stderr",
     "output_type": "stream",
     "text": [
      "/Users/kwu/anaconda2/lib/python2.7/site-packages/ipykernel/__main__.py:57: RuntimeWarning: overflow encountered in exp\n",
      "/Users/kwu/anaconda2/lib/python2.7/site-packages/ipykernel/__main__.py:58: RuntimeWarning: invalid value encountered in divide\n",
      "/Users/kwu/anaconda2/lib/python2.7/site-packages/ipykernel/__main__.py:57: RuntimeWarning: divide by zero encountered in divide\n",
      "/Users/kwu/anaconda2/lib/python2.7/site-packages/ipykernel/__main__.py:58: RuntimeWarning: invalid value encountered in multiply\n",
      "/Users/kwu/anaconda2/lib/python2.7/site-packages/ipykernel/__main__.py:57: RuntimeWarning: invalid value encountered in divide\n"
     ]
    },
    {
     "name": "stdout",
     "output_type": "stream",
     "text": [
      "Initial wealth: $100000\n",
      "Final wealth: $161839.725895\n",
      "Annualized return: 0.179468459345\n",
      "Time: 51s\n"
     ]
    }
   ],
   "source": [
    "## Run a simulation with Hedge, each expert is a proxy for buying a given stock\n",
    "\n",
    "s = SimulationEnv(initial_wealth, stocks, \"data/djia_20150101_20171101/\", \"2015-01-01\", \"2017-11-01\", EGRecent, Dummy)\n",
    "s.setup_params(agent_args = {\"eta\": -0.01, \"n\": 100})\n",
    "s.run()\n",
    "\n",
    "years = 2. + 11./12\n",
    "ar = ((s.wealth)/initial_wealth)**(1/years) - 1\n",
    "end = time.time()\n",
    "\n",
    "print \"Initial wealth: ${}\".format(initial_wealth)\n",
    "print \"Final wealth: ${}\".format(s.wealth)\n",
    "print \"Annualized return: {}\".format(ar)\n",
    "print \"Time: {}s\".format(int(end-start))"
   ]
  },
  {
   "cell_type": "code",
   "execution_count": 72,
   "metadata": {},
   "outputs": [
    {
     "name": "stderr",
     "output_type": "stream",
     "text": [
      "/Users/kwu/anaconda2/lib/python2.7/site-packages/ipykernel/__main__.py:57: RuntimeWarning: overflow encountered in exp\n",
      "/Users/kwu/anaconda2/lib/python2.7/site-packages/ipykernel/__main__.py:58: RuntimeWarning: invalid value encountered in divide\n",
      "/Users/kwu/anaconda2/lib/python2.7/site-packages/ipykernel/__main__.py:57: RuntimeWarning: divide by zero encountered in divide\n",
      "/Users/kwu/anaconda2/lib/python2.7/site-packages/ipykernel/__main__.py:57: RuntimeWarning: invalid value encountered in divide\n",
      "/Users/kwu/anaconda2/lib/python2.7/site-packages/ipykernel/__main__.py:58: RuntimeWarning: invalid value encountered in multiply\n"
     ]
    },
    {
     "name": "stdout",
     "output_type": "stream",
     "text": [
      "Initial wealth: $100000\n",
      "Final wealth: $55374.5056234\n",
      "Annualized return: -0.0324506877373\n",
      "Time: 825s\n"
     ]
    }
   ],
   "source": [
    "## Run a simulation with Hedge, each expert is a proxy for buying a given stock\n",
    "\n",
    "s = SimulationEnv(initial_wealth, stocks, \"data/djia_20000101_20171101/\", \"2000-01-01\", \"2017-11-01\", EGRecent, Dummy)\n",
    "s.setup_params(agent_args = {\"eta\": -0.01, \"n\": 750})\n",
    "s.run()\n",
    "\n",
    "years = 17. + 11./12\n",
    "ar = ((s.wealth)/initial_wealth)**(1/years) - 1\n",
    "end = time.time()\n",
    "\n",
    "print \"Initial wealth: ${}\".format(initial_wealth)\n",
    "print \"Final wealth: ${}\".format(s.wealth)\n",
    "print \"Annualized return: {}\".format(ar)\n",
    "print \"Time: {}s\".format(int(end-start))"
   ]
  },
  {
   "cell_type": "code",
   "execution_count": 75,
   "metadata": {},
   "outputs": [
    {
     "name": "stdout",
     "output_type": "stream",
     "text": [
      "Initial wealth: $100000\n",
      "Final wealth: $131862.034286\n",
      "Annualized return: 0.0994713617583\n",
      "Time: 20s\n"
     ]
    }
   ],
   "source": [
    "## Run simulation where we just buy and hold all stocks in equal amounts\n",
    "start = time.time()\n",
    "s = SimulationEnv(initial_wealth, stocks, \"data/djia_20150101_20171101/\", \"2015-01-01\", \"2017-11-01\", NaiveBuyHold, Dummy)\n",
    "s.setup_params(expert_args={})\n",
    "s.run()\n",
    "\n",
    "years = 2. + 11./12\n",
    "ar = ((s.wealth)/initial_wealth)**(1/years) - 1\n",
    "end = time.time()\n",
    "\n",
    "print \"Initial wealth: ${}\".format(initial_wealth)\n",
    "print \"Final wealth: ${}\".format(s.wealth)\n",
    "print \"Annualized return: {}\".format(ar)\n",
    "print \"Time: {}s\".format(int(end-start))\n",
    "\n"
   ]
  },
  {
   "cell_type": "code",
   "execution_count": 76,
   "metadata": {},
   "outputs": [
    {
     "name": "stdout",
     "output_type": "stream",
     "text": [
      "Initial wealth: $100000\n",
      "Final wealth: $196477.308454\n",
      "Annualized return: 0.0384149324082\n",
      "Time: 89s\n"
     ]
    }
   ],
   "source": [
    "## Run simulation where we just buy and hold all stocks in equal amounts\n",
    "start = time.time()\n",
    "s = SimulationEnv(initial_wealth, stocks, \"data/djia_20000101_20171101/\", \"2000-01-01\", \"2017-11-01\", NaiveBuyHold, Dummy)\n",
    "s.setup_params(expert_args={})\n",
    "s.run()\n",
    "\n",
    "years = 17. + 11./12\n",
    "ar = ((s.wealth)/initial_wealth)**(1/years) - 1\n",
    "end = time.time()\n",
    "\n",
    "print \"Initial wealth: ${}\".format(initial_wealth)\n",
    "print \"Final wealth: ${}\".format(s.wealth)\n",
    "print \"Annualized return: {}\".format(ar)\n",
    "print \"Time: {}s\".format(int(end-start))"
   ]
  },
  {
   "cell_type": "code",
   "execution_count": 77,
   "metadata": {},
   "outputs": [
    {
     "name": "stdout",
     "output_type": "stream",
     "text": [
      "Initial wealth: $100000\n",
      "Final wealth: $148046.711108\n",
      "Annualized return: 0.143990540447\n",
      "Time: 22s\n"
     ]
    }
   ],
   "source": [
    "## Run simulation where we each expert only recommends to buy when the price crosses 0.5 standard deviations below the 10-day moving average. \n",
    "## Otherwise doesn't do anything\n",
    "## Sell position when price gets above 0.5 standard deviations below the 10-day MA\n",
    "\n",
    "start = time.time()\n",
    "\n",
    "s = SimulationEnv(initial_wealth, stocks, \"data/djia_20150101_20171101/\", \"2015-01-01\", \"2017-11-01\", EG, MeanReversion)\n",
    "\n",
    "s.setup_params(\n",
    "    agent_args={\"eta\": -0.01},\n",
    "    expert_args={\"window_size\": 10, \"threshold\": .5}\n",
    ")\n",
    "\n",
    "s.run()\n",
    "end = time.time()\n",
    "years = 2. + 11./12\n",
    "ar = ((s.wealth)/initial_wealth)**(1/years) - 1\n",
    "\n",
    "print \"Initial wealth: ${}\".format(initial_wealth)\n",
    "print \"Final wealth: ${}\".format(s.wealth)\n",
    "print \"Annualized return: {}\".format(ar)\n",
    "print \"Time: {}s\".format(int(end-start))"
   ]
  },
  {
   "cell_type": "code",
   "execution_count": 78,
   "metadata": {},
   "outputs": [
    {
     "name": "stderr",
     "output_type": "stream",
     "text": [
      "/Users/kwu/anaconda2/lib/python2.7/site-packages/ipykernel/__main__.py:20: RuntimeWarning: overflow encountered in exp\n",
      "/Users/kwu/anaconda2/lib/python2.7/site-packages/ipykernel/__main__.py:21: RuntimeWarning: invalid value encountered in divide\n",
      "/Users/kwu/anaconda2/lib/python2.7/site-packages/ipykernel/__main__.py:20: RuntimeWarning: divide by zero encountered in divide\n",
      "/Users/kwu/anaconda2/lib/python2.7/site-packages/ipykernel/__main__.py:20: RuntimeWarning: invalid value encountered in divide\n",
      "/Users/kwu/anaconda2/lib/python2.7/site-packages/ipykernel/__main__.py:21: RuntimeWarning: invalid value encountered in multiply\n"
     ]
    },
    {
     "name": "stdout",
     "output_type": "stream",
     "text": [
      "Initial wealth: $100000\n",
      "Final wealth: $763454.648775\n",
      "Annualized return: 0.120138237954\n",
      "Time: 93s\n"
     ]
    }
   ],
   "source": [
    "\n",
    "start = time.time()\n",
    "\n",
    "s = SimulationEnv(initial_wealth, stocks, \"data/djia_20000101_20171101/\", \"2000-01-01\", \"2017-11-01\", EG, MeanReversion)\n",
    "\n",
    "s.setup_params(\n",
    "    agent_args={\"eta\": -0.01},\n",
    "    expert_args={\"window_size\": 10, \"threshold\": .5}\n",
    ")\n",
    "\n",
    "s.run()\n",
    "end = time.time()\n",
    "years = 17. + 11./12\n",
    "ar = ((s.wealth)/initial_wealth)**(1/years) - 1\n",
    "\n",
    "print \"Initial wealth: ${}\".format(initial_wealth)\n",
    "print \"Final wealth: ${}\".format(s.wealth)\n",
    "print \"Annualized return: {}\".format(ar)\n",
    "print \"Time: {}s\".format(int(end-start))"
   ]
  },
  {
   "cell_type": "code",
   "execution_count": 80,
   "metadata": {},
   "outputs": [
    {
     "name": "stderr",
     "output_type": "stream",
     "text": [
      "/Users/kwu/anaconda2/lib/python2.7/site-packages/ipykernel/__main__.py:57: RuntimeWarning: overflow encountered in exp\n",
      "/Users/kwu/anaconda2/lib/python2.7/site-packages/ipykernel/__main__.py:58: RuntimeWarning: invalid value encountered in divide\n",
      "/Users/kwu/anaconda2/lib/python2.7/site-packages/ipykernel/__main__.py:57: RuntimeWarning: divide by zero encountered in divide\n",
      "/Users/kwu/anaconda2/lib/python2.7/site-packages/ipykernel/__main__.py:57: RuntimeWarning: invalid value encountered in divide\n",
      "/Users/kwu/anaconda2/lib/python2.7/site-packages/ipykernel/__main__.py:58: RuntimeWarning: invalid value encountered in multiply\n"
     ]
    },
    {
     "name": "stdout",
     "output_type": "stream",
     "text": [
      "Initial wealth: $100000\n",
      "Final wealth: $834042.749701\n",
      "Annualized return: 0.125680548297\n",
      "Time: 206s\n"
     ]
    }
   ],
   "source": [
    "\n",
    "start = time.time()\n",
    "\n",
    "s = SimulationEnv(initial_wealth, stocks, \"data/djia_20000101_20171101/\", \"2000-01-01\", \"2017-11-01\", EGRecent, MeanReversion)\n",
    "\n",
    "s.setup_params(\n",
    "    agent_args={\"eta\": -0.01, \"n\": 1250},\n",
    "    expert_args={\"window_size\": 10, \"threshold\": .5}\n",
    ")\n",
    "\n",
    "s.run()\n",
    "end = time.time()\n",
    "years = 17. + 11./12\n",
    "ar = ((s.wealth)/initial_wealth)**(1/years) - 1\n",
    "\n",
    "print \"Initial wealth: ${}\".format(initial_wealth)\n",
    "print \"Final wealth: ${}\".format(s.wealth)\n",
    "print \"Annualized return: {}\".format(ar)\n",
    "print \"Time: {}s\".format(int(end-start))"
   ]
  },
  {
   "cell_type": "code",
   "execution_count": 93,
   "metadata": {},
   "outputs": [
    {
     "name": "stdout",
     "output_type": "stream",
     "text": [
      "Initial wealth: $100000\n",
      "Final wealth: $139211.576888\n",
      "Annualized return: 0.120108572408\n",
      "Time: 21s\n"
     ]
    }
   ],
   "source": [
    "start = time.time()\n",
    "s = SimulationEnv(initial_wealth, stocks, \"data/djia_20150101_20171101/\", \"2015-01-01\", \"2017-11-01\", EG, Momentum)\n",
    "\n",
    "years = 2. + 11./12\n",
    "s.setup_params(\n",
    "    agent_args={\"eta\": -0.01},\n",
    "    expert_args={\"window_size\": 10, \"threshold\": 2.5}\n",
    ")\n",
    "\n",
    "s.run()\n",
    "end = time.time()\n",
    "\n",
    "ar = ((s.wealth)/initial_wealth)**(1/years) - 1\n",
    "\n",
    "print \"Initial wealth: ${}\".format(initial_wealth)\n",
    "print \"Final wealth: ${}\".format(s.wealth)\n",
    "print \"Annualized return: {}\".format(ar)\n",
    "print \"Time: {}s\".format(int(end-start))"
   ]
  },
  {
   "cell_type": "code",
   "execution_count": 94,
   "metadata": {},
   "outputs": [
    {
     "name": "stderr",
     "output_type": "stream",
     "text": [
      "/Users/kwu/anaconda2/lib/python2.7/site-packages/ipykernel/__main__.py:20: RuntimeWarning: overflow encountered in exp\n",
      "/Users/kwu/anaconda2/lib/python2.7/site-packages/ipykernel/__main__.py:21: RuntimeWarning: invalid value encountered in divide\n",
      "/Users/kwu/anaconda2/lib/python2.7/site-packages/ipykernel/__main__.py:20: RuntimeWarning: divide by zero encountered in divide\n",
      "/Users/kwu/anaconda2/lib/python2.7/site-packages/ipykernel/__main__.py:21: RuntimeWarning: invalid value encountered in multiply\n",
      "/Users/kwu/anaconda2/lib/python2.7/site-packages/ipykernel/__main__.py:20: RuntimeWarning: invalid value encountered in divide\n"
     ]
    },
    {
     "name": "stdout",
     "output_type": "stream",
     "text": [
      "Initial wealth: $100000\n",
      "Final wealth: $172374.2603\n",
      "Annualized return: 0.0308570856091\n",
      "Time: 89s\n"
     ]
    }
   ],
   "source": [
    "start = time.time()\n",
    "s = SimulationEnv(initial_wealth, stocks, \"data/djia_20000101_20171101/\", \"2000-01-01\", \"2017-11-01\", EG, Momentum)\n",
    "\n",
    "years = 17. + 11./12\n",
    "s.setup_params(\n",
    "    agent_args={\"eta\": -0.01},\n",
    "    expert_args={\"window_size\": 10, \"threshold\": 2.5}\n",
    ")\n",
    "\n",
    "s.run()\n",
    "end = time.time()\n",
    "\n",
    "ar = ((s.wealth)/initial_wealth)**(1/years) - 1\n",
    "\n",
    "print \"Initial wealth: ${}\".format(initial_wealth)\n",
    "print \"Final wealth: ${}\".format(s.wealth)\n",
    "print \"Annualized return: {}\".format(ar)\n",
    "print \"Time: {}s\".format(int(end-start))"
   ]
  },
  {
   "cell_type": "code",
   "execution_count": 88,
   "metadata": {},
   "outputs": [
    {
     "name": "stderr",
     "output_type": "stream",
     "text": [
      "/Users/kwu/anaconda2/lib/python2.7/site-packages/ipykernel/__main__.py:57: RuntimeWarning: overflow encountered in exp\n",
      "/Users/kwu/anaconda2/lib/python2.7/site-packages/ipykernel/__main__.py:58: RuntimeWarning: invalid value encountered in divide\n",
      "/Users/kwu/anaconda2/lib/python2.7/site-packages/ipykernel/__main__.py:57: RuntimeWarning: divide by zero encountered in divide\n",
      "/Users/kwu/anaconda2/lib/python2.7/site-packages/ipykernel/__main__.py:58: RuntimeWarning: invalid value encountered in multiply\n",
      "/Users/kwu/anaconda2/lib/python2.7/site-packages/ipykernel/__main__.py:57: RuntimeWarning: invalid value encountered in divide\n"
     ]
    },
    {
     "name": "stdout",
     "output_type": "stream",
     "text": [
      "Initial wealth: $100000\n",
      "Final wealth: $188378.253748\n",
      "Annualized return: 0.0359780514752\n",
      "Time: 129s\n"
     ]
    }
   ],
   "source": [
    "start = time.time()\n",
    "s = SimulationEnv(initial_wealth, stocks, \"data/djia_20000101_20171101/\", \"2000-01-01\", \"2017-11-01\", EGRecent, Momentum)\n",
    "\n",
    "years = 17. + 11./12\n",
    "s.setup_params(\n",
    "    agent_args={\"eta\": -0.001, \"n\": 500},\n",
    "    expert_args={\"window_size\": 10, \"threshold\": 2.5}\n",
    ")\n",
    "\n",
    "s.run()\n",
    "end = time.time()\n",
    "\n",
    "ar = ((s.wealth)/initial_wealth)**(1/years) - 1\n",
    "\n",
    "print \"Initial wealth: ${}\".format(initial_wealth)\n",
    "print \"Final wealth: ${}\".format(s.wealth)\n",
    "print \"Annualized return: {}\".format(ar)\n",
    "print \"Time: {}s\".format(int(end-start))"
   ]
  },
  {
   "cell_type": "code",
   "execution_count": 144,
   "metadata": {},
   "outputs": [
    {
     "data": {
      "text/plain": [
       "u'0.20.1'"
      ]
     },
     "execution_count": 144,
     "metadata": {},
     "output_type": "execute_result"
    }
   ],
   "source": [
    "pd.__version__"
   ]
  },
  {
   "cell_type": "code",
   "execution_count": null,
   "metadata": {
    "collapsed": true
   },
   "outputs": [],
   "source": []
  }
 ],
 "metadata": {
  "anaconda-cloud": {},
  "kernelspec": {
   "display_name": "Python 2",
   "language": "python",
   "name": "python2"
  },
  "language_info": {
   "codemirror_mode": {
    "name": "ipython",
    "version": 2
   },
   "file_extension": ".py",
   "mimetype": "text/x-python",
   "name": "python",
   "nbconvert_exporter": "python",
   "pygments_lexer": "ipython2",
   "version": "2.7.11"
  }
 },
 "nbformat": 4,
 "nbformat_minor": 2
}
